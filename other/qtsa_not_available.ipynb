# This file is not available for public use
It is given directly to the workshop participants (after the workshop)
