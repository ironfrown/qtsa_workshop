{
 "cells": [
  {
   "cell_type": "markdown",
   "id": "e3247541-2aad-4e5e-9690-951b18811092",
   "metadata": {},
   "source": [
    "# This file is not available for public use\n",
    "It is given directly to the workshop participants (after the workshop)"
   ]
  }
 ],
 "metadata": {
  "kernelspec": {
   "display_name": "Python 3 (ipykernel)",
   "language": "python",
   "name": "python3"
  },
  "language_info": {
   "codemirror_mode": {
    "name": "ipython",
    "version": 3
   },
   "file_extension": ".py",
   "mimetype": "text/x-python",
   "name": "python",
   "nbconvert_exporter": "python",
   "pygments_lexer": "ipython3",
   "version": "3.8.13"
  }
 },
 "nbformat": 4,
 "nbformat_minor": 5
}
